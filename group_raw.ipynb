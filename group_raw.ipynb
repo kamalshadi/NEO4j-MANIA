{
 "cells": [
  {
   "cell_type": "code",
   "execution_count": 1,
   "metadata": {},
   "outputs": [],
   "source": [
    "from rankAggregation import *\n",
    "import copy\n",
    "import numpy as num\n",
    "import pickle as pk\n",
    "import os\n",
    "from utils import *\n",
    "# from optimization_tools import *\n",
    "import sys\n",
    "from tqdm import tqdm"
   ]
  },
  {
   "cell_type": "code",
   "execution_count": 2,
   "metadata": {},
   "outputs": [],
   "source": [
    "sys.setrecursionlimit(10000)"
   ]
  },
  {
   "cell_type": "code",
   "execution_count": 3,
   "metadata": {},
   "outputs": [],
   "source": [
    "from group_mania import *"
   ]
  },
  {
   "cell_type": "code",
   "execution_count": 4,
   "metadata": {},
   "outputs": [],
   "source": [
    "fpl = ['401422','421226','453542',\"463040\",\"468050\",\"481042\"]\n",
    "output_folder = 'GROUP'"
   ]
  },
  {
   "cell_type": "code",
   "execution_count": 27,
   "metadata": {},
   "outputs": [
    {
     "name": "stdout",
     "output_type": "stream",
     "text": [
      "Loading...\n",
      "Subject:1 of 6\n",
      "Subject:2 of 6\n",
      "Subject:3 of 6\n",
      "Subject:4 of 6\n",
      "Subject:5 of 6\n",
      "Subject:6 of 6\n",
      "Aggregation...\n"
     ]
    }
   ],
   "source": [
    "l = len(fpl)\n",
    "L=[[]]*l\n",
    "print('Loading...')\n",
    "for i in range(l):\n",
    "\tprint('Subject:'+str(i+1)+' of '+str(l))\n",
    "\tW=emergeConfidence(fpl[i],'R')\n",
    "\tL[i]=mat2lis(W)\n",
    "l1,l2 = W.shape\n",
    "print('Aggregation...')\n",
    "S=KendalMatrix(L)\n",
    "net=agg(S,range(l1*(l2-1)))\n",
    "A=num.zeros((l1,l1))\n",
    "B=num.zeros((l1,l1))\n",
    "log=[]\n",
    "l2 = len(net)\n",
    "for i,ed in enumerate(net[1:(l2-1)]):\n",
    "\ttup=num2edge(ed,l1)\n",
    "\tA[tup[0],tup[1]]=1\n",
    "\tden=density(A)\n",
    "\tnar=NAR(A)\n",
    "\tB=copy.copy(A)\n",
    "\tlog.append((B,nar,den,i))"
   ]
  },
  {
   "cell_type": "code",
   "execution_count": 28,
   "metadata": {},
   "outputs": [],
   "source": [
    "if output_folder[-1] != '/':\n",
    "\toutput_folder = output_folder+'/'\n",
    "raw = output_folder + 'R_agg.res'\n",
    "with open(raw,'wb') as f:\n",
    "\tpk.dump(log[1:(len(log)-10):5],f)"
   ]
  },
  {
   "cell_type": "code",
   "execution_count": 22,
   "metadata": {},
   "outputs": [],
   "source": [
    "log = []\n",
    "l2 = len(net)\n"
   ]
  },
  {
   "cell_type": "code",
   "execution_count": 23,
   "metadata": {},
   "outputs": [
    {
     "data": {
      "text/plain": [
       "32218"
      ]
     },
     "execution_count": 23,
     "metadata": {},
     "output_type": "execute_result"
    }
   ],
   "source": [
    "len(log)"
   ]
  },
  {
   "cell_type": "code",
   "execution_count": 55,
   "metadata": {},
   "outputs": [
    {
     "name": "stdout",
     "output_type": "stream",
     "text": [
      "1\n",
      "3\n",
      "5\n"
     ]
    }
   ],
   "source": [
    "for i in a[1:7:2]:\n",
    "    print(i)"
   ]
  },
  {
   "cell_type": "code",
   "execution_count": null,
   "metadata": {},
   "outputs": [],
   "source": []
  }
 ],
 "metadata": {
  "kernelspec": {
   "display_name": "Python 3",
   "language": "python",
   "name": "python3"
  },
  "language_info": {
   "codemirror_mode": {
    "name": "ipython",
    "version": 3
   },
   "file_extension": ".py",
   "mimetype": "text/x-python",
   "name": "python",
   "nbconvert_exporter": "python",
   "pygments_lexer": "ipython3",
   "version": "3.6.2"
  }
 },
 "nbformat": 4,
 "nbformat_minor": 2
}
